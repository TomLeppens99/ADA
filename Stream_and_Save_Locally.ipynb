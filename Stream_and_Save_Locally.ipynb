{
 "cells": [
  {
   "cell_type": "code",
   "execution_count": 1,
   "id": "067aaec8",
   "metadata": {
    "scrolled": true
   },
   "outputs": [
    {
     "data": {
      "text/html": [
       "\n",
       "        <div>\n",
       "            <p><b>SparkContext</b></p>\n",
       "\n",
       "            <p><a href=\"http://192.168.0.194:4040\">Spark UI</a></p>\n",
       "\n",
       "            <dl>\n",
       "              <dt>Version</dt>\n",
       "                <dd><code>v3.3.2</code></dd>\n",
       "              <dt>Master</dt>\n",
       "                <dd><code>local[2]</code></dd>\n",
       "              <dt>AppName</dt>\n",
       "                <dd><code>PySparkShell</code></dd>\n",
       "            </dl>\n",
       "        </div>\n",
       "        "
      ],
      "text/plain": [
       "<SparkContext master=local[2] appName=PySparkShell>"
      ]
     },
     "execution_count": 1,
     "metadata": {},
     "output_type": "execute_result"
    }
   ],
   "source": [
    "sc"
   ]
  },
  {
   "cell_type": "code",
   "execution_count": 2,
   "id": "50d5a8af",
   "metadata": {},
   "outputs": [],
   "source": [
    "import datetime\n",
    "import time\n",
    "from pyspark import SparkConf, SparkContext\n",
    "from pyspark.streaming import StreamingContext"
   ]
  },
  {
   "cell_type": "code",
   "execution_count": 3,
   "id": "01825095",
   "metadata": {},
   "outputs": [],
   "source": [
    "conf = SparkConf().setAppName(\"MyStreamingApp\")\n",
    "#sc = SparkContext(conf=conf)\n",
    "ssc = StreamingContext(sc, 10)\n",
    "now = datetime.datetime.now()"
   ]
  },
  {
   "cell_type": "code",
   "execution_count": 4,
   "id": "c1d72985",
   "metadata": {},
   "outputs": [
    {
     "name": "stdout",
     "output_type": "stream",
     "text": [
      "2023-04-16 11:23:23.199917\n"
     ]
    }
   ],
   "source": [
    "print(now)"
   ]
  },
  {
   "cell_type": "code",
   "execution_count": 5,
   "id": "b7dddf30",
   "metadata": {},
   "outputs": [],
   "source": [
    "#conf = SparkConf().setAppName(\"MyStreamingApp\")\n",
    "    #sc = SparkContext(conf=conf)\n",
    "ssc = StreamingContext(sc, 60)\n",
    "    # Define the domain and port to listen to\n",
    "domain = \"seppe.net\"\n",
    "port = 7778\n",
    "\n",
    "    # Define the directory where to save the received data\n",
    "output_path = \"/Users/Conrad/Documents/AdvancedAnalyticsofBigData/ADA_Assignment3/Review_Data_2/\"\n",
    "\n",
    "    # Create a DStream that listens to the domain and port\n",
    "stream_data = ssc.socketTextStream(domain, port)\n",
    "\n",
    "    # Save the received data to the output directory\n",
    "stream_data.saveAsTextFiles(output_path)\n"
   ]
  },
  {
   "cell_type": "code",
   "execution_count": 7,
   "id": "bbcc1eca",
   "metadata": {},
   "outputs": [
    {
     "name": "stdout",
     "output_type": "stream",
     "text": [
      "Starting Iteration No.0\n"
     ]
    },
    {
     "ename": "KeyboardInterrupt",
     "evalue": "",
     "output_type": "error",
     "traceback": [
      "\u001b[0;31m---------------------------------------------------------------------------\u001b[0m",
      "\u001b[0;31mKeyboardInterrupt\u001b[0m                         Traceback (most recent call last)",
      "Cell \u001b[0;32mIn[7], line 8\u001b[0m\n\u001b[1;32m      6\u001b[0m ssc\u001b[38;5;241m.\u001b[39mstart()\n\u001b[1;32m      7\u001b[0m ssc\u001b[38;5;241m.\u001b[39mawaitTermination(\u001b[38;5;241m480\u001b[39m)\n\u001b[0;32m----> 8\u001b[0m \u001b[43mtime\u001b[49m\u001b[38;5;241;43m.\u001b[39;49m\u001b[43msleep\u001b[49m\u001b[43m(\u001b[49m\u001b[38;5;241;43m500\u001b[39;49m\u001b[43m)\u001b[49m\n\u001b[1;32m      9\u001b[0m num_iteration \u001b[38;5;241m+\u001b[39m\u001b[38;5;241m=\u001b[39m\u001b[38;5;241m1\u001b[39m\n\u001b[1;32m     10\u001b[0m \u001b[38;5;28mprint\u001b[39m(\u001b[38;5;124m\"\u001b[39m\u001b[38;5;124mIteration Completed No.\u001b[39m\u001b[38;5;132;01m{}\u001b[39;00m\u001b[38;5;124m\"\u001b[39m\u001b[38;5;241m.\u001b[39mformat(num_iteration))\n",
      "\u001b[0;31mKeyboardInterrupt\u001b[0m: "
     ]
    }
   ],
   "source": [
    "#Creating a loop for every 500 sec, becasue for some reason, No new reviews are received after ~480 seconds. \n",
    "#New folders are created, but only contains a _SUCCESS file. \n",
    "num_iteration = 0\n",
    "while True: \n",
    "    print(\"Starting Iteration No.{}\".format(num_iteration))\n",
    "    ssc.start()\n",
    "    ssc.awaitTermination(480)\n",
    "    time.sleep(500)\n",
    "    num_iteration +=1\n",
    "    print(\"Iteration Completed No.{}\".format(num_iteration))\n",
    "    print(\"Stopping now...\")\n",
    "    ssc.stop(stopSparkContext=False, stopGraceFully=True)\n",
    "    time.sleep(60)"
   ]
  },
  {
   "cell_type": "code",
   "execution_count": 7,
   "id": "d0efb03d",
   "metadata": {},
   "outputs": [],
   "source": [
    "#Run this when need to properly stop it\n",
    "ssc.stop(stopSparkContext=True, stopGraceFully=True)"
   ]
  },
  {
   "cell_type": "code",
   "execution_count": 6,
   "id": "b5e600d6",
   "metadata": {},
   "outputs": [],
   "source": [
    "ssc.start()\n",
    "ssc.awaitTermination(480)"
   ]
  },
  {
   "cell_type": "code",
   "execution_count": null,
   "id": "a8051949",
   "metadata": {},
   "outputs": [],
   "source": []
  }
 ],
 "metadata": {
  "kernelspec": {
   "display_name": "Python 3 (ipykernel)",
   "language": "python",
   "name": "python3"
  },
  "language_info": {
   "codemirror_mode": {
    "name": "ipython",
    "version": 3
   },
   "file_extension": ".py",
   "mimetype": "text/x-python",
   "name": "python",
   "nbconvert_exporter": "python",
   "pygments_lexer": "ipython3",
   "version": "3.10.10"
  }
 },
 "nbformat": 4,
 "nbformat_minor": 5
}
