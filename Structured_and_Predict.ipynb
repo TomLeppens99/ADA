{
 "cells": [
  {
   "cell_type": "code",
   "execution_count": 1,
   "id": "99bd4fb4",
   "metadata": {},
   "outputs": [],
   "source": [
    "from pyspark.sql import SparkSession\n",
    "from pyspark.sql.types import StructType, StructField, StringType, DoubleType\n",
    "from pyspark.sql.functions import from_json, col, expr,udf\n",
    "from pyspark.ml.feature import Tokenizer, StopWordsRemover, HashingTF\n",
    "from pyspark.ml.classification import LogisticRegressionModel\n",
    "from pyspark.ml import Pipeline\n",
    "import textwrap\n"
   ]
  },
  {
   "cell_type": "code",
   "execution_count": 2,
   "id": "d845d021",
   "metadata": {},
   "outputs": [],
   "source": [
    "\n",
    "def print_output(df, epoch_id):\n",
    "    df.select(\"review_text\", \"label\", \"probability\", \"prediction\") \\\n",
    "        .withColumn(\"review_text\", df.review_text.substr(0, 35)) \\\n",
    "        .show(truncate=False)\n"
   ]
  },
  {
   "cell_type": "code",
   "execution_count": 3,
   "id": "9537c245",
   "metadata": {},
   "outputs": [],
   "source": [
    "spark = SparkSession.builder \\\n",
    "    .appName(\"StructuredStreamingPrediction\") \\\n",
    "    .getOrCreate()"
   ]
  },
  {
   "cell_type": "code",
   "execution_count": 4,
   "id": "537c224b",
   "metadata": {},
   "outputs": [],
   "source": [
    "# Define the schema of the input JSON data\n",
    "schema = StructType([\n",
    "    StructField(\"review_text\", StringType(), True),\n",
    "    StructField(\"label\", DoubleType(), True),\n",
    "    # Add more fields as needed\n",
    "])\n"
   ]
  },
  {
   "cell_type": "code",
   "execution_count": 5,
   "id": "747ed58d",
   "metadata": {},
   "outputs": [
    {
     "data": {
      "text/html": [
       "\n",
       "        <div>\n",
       "            <p><b>SparkContext</b></p>\n",
       "\n",
       "            <p><a href=\"http://10.45.207.185:4042\">Spark UI</a></p>\n",
       "\n",
       "            <dl>\n",
       "              <dt>Version</dt>\n",
       "                <dd><code>v3.3.2</code></dd>\n",
       "              <dt>Master</dt>\n",
       "                <dd><code>local[2]</code></dd>\n",
       "              <dt>AppName</dt>\n",
       "                <dd><code>PySparkShell</code></dd>\n",
       "            </dl>\n",
       "        </div>\n",
       "        "
      ],
      "text/plain": [
       "<SparkContext master=local[2] appName=PySparkShell>"
      ]
     },
     "execution_count": 5,
     "metadata": {},
     "output_type": "execute_result"
    }
   ],
   "source": [
    "sc"
   ]
  },
  {
   "cell_type": "code",
   "execution_count": 6,
   "id": "32d44e61",
   "metadata": {},
   "outputs": [],
   "source": [
    "streaming_data = spark.readStream \\\n",
    "    .format(\"socket\") \\\n",
    "    .option(\"host\", \"seppe.net\") \\\n",
    "    .option(\"port\", \"7778\") \\\n",
    "    .load()"
   ]
  },
  {
   "cell_type": "code",
   "execution_count": 7,
   "id": "edb44760",
   "metadata": {},
   "outputs": [],
   "source": [
    "# Deserialize the JSON input data using the defined schema\n",
    "input_data = streaming_data.selectExpr(\"CAST(value AS STRING)\") \\\n",
    "    .select(from_json(col(\"value\"), schema).alias(\"data\")) \\\n",
    "    .select(\"data.review_text\",\"data.label\")\n"
   ]
  },
  {
   "cell_type": "code",
   "execution_count": 8,
   "id": "463eb3fa",
   "metadata": {},
   "outputs": [],
   "source": [
    "# Preprocess data\n",
    "tokenizer = Tokenizer(inputCol=\"review_text\", outputCol=\"words\")\n",
    "stopwords = StopWordsRemover(inputCol=tokenizer.getOutputCol(), outputCol=\"filtered_words\")\n",
    "hashingTF = HashingTF(numFeatures=1000, inputCol=stopwords.getOutputCol(), outputCol=\"features\")\n",
    "pipeline = Pipeline(stages=[tokenizer, stopwords, hashingTF])"
   ]
  },
  {
   "cell_type": "code",
   "execution_count": 9,
   "id": "eb247b99",
   "metadata": {},
   "outputs": [],
   "source": [
    "preprocessing_pipeline = Pipeline(stages=[tokenizer, stopwords, hashingTF])\n"
   ]
  },
  {
   "cell_type": "code",
   "execution_count": 10,
   "id": "4dcc16bf",
   "metadata": {},
   "outputs": [],
   "source": [
    "preprocessed_data = preprocessing_pipeline.fit(input_data).transform(input_data)\n"
   ]
  },
  {
   "cell_type": "code",
   "execution_count": 11,
   "id": "db02dbe7",
   "metadata": {},
   "outputs": [],
   "source": [
    "model_path = \"Model1\"\n",
    "model = LogisticRegressionModel.load(model_path)"
   ]
  },
  {
   "cell_type": "code",
   "execution_count": 12,
   "id": "8b695556",
   "metadata": {},
   "outputs": [],
   "source": [
    "predictions = model.transform(preprocessed_data)\n"
   ]
  },
  {
   "cell_type": "code",
   "execution_count": 15,
   "id": "6fd97735",
   "metadata": {},
   "outputs": [
    {
     "name": "stdout",
     "output_type": "stream",
     "text": [
      "+-----------+-----+-----------+----------+\n",
      "|review_text|label|probability|prediction|\n",
      "+-----------+-----+-----------+----------+\n",
      "+-----------+-----+-----------+----------+\n",
      "\n",
      "+-----------------------------------+-----+------------------------------------------+----------+\n",
      "|review_text                        |label|probability                               |prediction|\n",
      "+-----------------------------------+-----+------------------------------------------+----------+\n",
      "|An awesome boomer shooter made by a|1.0  |[2.3888943421570668E-4,0.9997611105657843]|1.0       |\n",
      "+-----------------------------------+-----+------------------------------------------+----------+\n",
      "\n",
      "+----------------------+-----+------------------------------------------+----------+\n",
      "|review_text           |label|probability                               |prediction|\n",
      "+----------------------+-----+------------------------------------------+----------+\n",
      "|interesting logic game|1.0  |[3.5483094660843304E-5,0.9999645169053392]|1.0       |\n",
      "+----------------------+-----+------------------------------------------+----------+\n",
      "\n",
      "+-----------------------------------+-----+-----------------------------------------+----------+\n",
      "|review_text                        |label|probability                              |prediction|\n",
      "+-----------------------------------+-----+-----------------------------------------+----------+\n",
      "|Board a ship to planet WakaFlaka an|1.0  |[3.743415315097886E-8,0.9999999625658469]|1.0       |\n",
      "+-----------------------------------+-----+-----------------------------------------+----------+\n",
      "\n",
      "+------------------+-----+-----------------------------------------+----------+\n",
      "|review_text       |label|probability                              |prediction|\n",
      "+------------------+-----+-----------------------------------------+----------+\n",
      "|I'm doing my part!|1.0  |[3.234716636116631E-7,0.9999996765283364]|1.0       |\n",
      "+------------------+-----+-----------------------------------------+----------+\n",
      "\n",
      "+------------------+-----+-----------------------------------------+----------+\n",
      "|review_text       |label|probability                              |prediction|\n",
      "+------------------+-----+-----------------------------------------+----------+\n",
      "|I'm doing my part.|1.0  |[2.312215501821365E-9,0.9999999976877845]|1.0       |\n",
      "+------------------+-----+-----------------------------------------+----------+\n",
      "\n",
      "+-----------------------------------+-----+-----------------------------------------+----------+\n",
      "|review_text                        |label|probability                              |prediction|\n",
      "+-----------------------------------+-----+-----------------------------------------+----------+\n",
      "|This game is everything I have ever|1.0  |[4.047091322104973E-8,0.9999999595290868]|1.0       |\n",
      "+-----------------------------------+-----+-----------------------------------------+----------+\n",
      "\n",
      "+-----------------------------------+-----+-----------------------------------------+----------+\n",
      "|review_text                        |label|probability                              |prediction|\n",
      "+-----------------------------------+-----+-----------------------------------------+----------+\n",
      "|As of this review the game is still|1.0  |[6.67838284731144E-10,0.9999999993321617]|1.0       |\n",
      "+-----------------------------------+-----+-----------------------------------------+----------+\n",
      "\n",
      "+-----------------------------------+-----+-------------------------------------------+----------+\n",
      "|review_text                        |label|probability                                |prediction|\n",
      "+-----------------------------------+-----+-------------------------------------------+----------+\n",
      "|I love Starship Trooper and I dream|1.0  |[2.0771691162332738E-11,0.9999999999792283]|1.0       |\n",
      "+-----------------------------------+-----+-------------------------------------------+----------+\n",
      "\n",
      "+-----------------------------------+-----+-----------+----------+\n",
      "|review_text                        |label|probability|prediction|\n",
      "+-----------------------------------+-----+-----------+----------+\n",
      "|Starship Troopers game I have alway|1.0  |[1.0,0.0]  |0.0       |\n",
      "+-----------------------------------+-----+-----------+----------+\n",
      "\n",
      "+-----------------------------------+-----+------------------------------------------+----------+\n",
      "|review_text                        |label|probability                               |prediction|\n",
      "+-----------------------------------+-----+------------------------------------------+----------+\n",
      "|The came focuses on team cohesivene|1.0  |[6.511567125410259E-16,0.9999999999999993]|1.0       |\n",
      "+-----------------------------------+-----+------------------------------------------+----------+\n",
      "\n",
      "+-----------------------------------+-----+-----------------------------------------+----------+\n",
      "|review_text                        |label|probability                              |prediction|\n",
      "+-----------------------------------+-----+-----------------------------------------+----------+\n",
      "|Unique Combat system , fun and cons|1.0  |[2.93255700082825E-16,0.9999999999999997]|1.0       |\n",
      "+-----------------------------------+-----+-----------------------------------------+----------+\n",
      "\n",
      "+-----------------------------------+-----+----------------------------+----------+\n",
      "|review_text                        |label|probability                 |prediction|\n",
      "+-----------------------------------+-----+----------------------------+----------+\n",
      "|If you enjoy Puzzle Quest: Challeng|1.0  |[1.1940458887096277E-27,1.0]|1.0       |\n",
      "+-----------------------------------+-----+----------------------------+----------+\n",
      "\n",
      "+-----------------------------------+-----+----------------------------+----------+\n",
      "|review_text                        |label|probability                 |prediction|\n",
      "+-----------------------------------+-----+----------------------------+----------+\n",
      "|I was thoroughly impressed by this |1.0  |[7.2388412826324216E-34,1.0]|1.0       |\n",
      "+-----------------------------------+-----+----------------------------+----------+\n",
      "\n",
      "+-----------------------------------+-----+----------------------------------------+----------+\n",
      "|review_text                        |label|probability                             |prediction|\n",
      "+-----------------------------------+-----+----------------------------------------+----------+\n",
      "|This game is pretty fun, don't let |1.0  |[0.18756189576113885,0.8124381042388611]|1.0       |\n",
      "+-----------------------------------+-----+----------------------------------------+----------+\n",
      "\n",
      "+-----------------------------------+-----+-----------------------------------------+----------+\n",
      "|review_text                        |label|probability                              |prediction|\n",
      "+-----------------------------------+-----+-----------------------------------------+----------+\n",
      "|Pretty good so far but i feel like |1.0  |[0.9999994033111236,5.966888764197265E-7]|0.0       |\n",
      "+-----------------------------------+-----+-----------------------------------------+----------+\n",
      "\n",
      "+-----------+-----+------------------------------------------+----------+\n",
      "|review_text|label|probability                               |prediction|\n",
      "+-----------+-----+------------------------------------------+----------+\n",
      "|10/10      |1.0  |[1.0008632776522682E-9,0.9999999989991367]|1.0       |\n",
      "+-----------+-----+------------------------------------------+----------+\n",
      "\n",
      "+-----------------------------------+-----+------------------------------------------+----------+\n",
      "|review_text                        |label|probability                               |prediction|\n",
      "+-----------------------------------+-----+------------------------------------------+----------+\n",
      "|Everyone should play this game, gre|1.0  |[3.0450335475587885E-15,0.999999999999997]|1.0       |\n",
      "+-----------------------------------+-----+------------------------------------------+----------+\n",
      "\n",
      "+-----------------------------------+-----+------------------------------------------+----------+\n",
      "|review_text                        |label|probability                               |prediction|\n",
      "+-----------------------------------+-----+------------------------------------------+----------+\n",
      "|Got chased by a naked man, then hid|1.0  |[1.1689969253828088E-7,0.9999998831003074]|1.0       |\n",
      "+-----------------------------------+-----+------------------------------------------+----------+\n",
      "\n"
     ]
    },
    {
     "name": "stdout",
     "output_type": "stream",
     "text": [
      "+--------------------------------+-----+-----------------------------------------+----------+\n",
      "|review_text                     |label|probability                              |prediction|\n",
      "+--------------------------------+-----+-----------------------------------------+----------+\n",
      "|Best played with friends. Scary!|1.0  |[9.670497769426561E-4,0.9990329502230574]|1.0       |\n",
      "+--------------------------------+-----+-----------------------------------------+----------+\n",
      "\n",
      "+-----------+-----+-----------------------------------------+----------+\n",
      "|review_text|label|probability                              |prediction|\n",
      "+-----------+-----+-----------------------------------------+----------+\n",
      "|W          |1.0  |[5.331118278012236E-8,0.9999999466888172]|1.0       |\n",
      "+-----------+-----+-----------------------------------------+----------+\n",
      "\n"
     ]
    }
   ],
   "source": [
    "query = predictions.writeStream \\\n",
    "    .foreachBatch(print_output) \\\n",
    "    .start()"
   ]
  },
  {
   "cell_type": "code",
   "execution_count": 16,
   "id": "f32e665c",
   "metadata": {},
   "outputs": [],
   "source": [
    "query.stop()"
   ]
  },
  {
   "cell_type": "code",
   "execution_count": null,
   "id": "278a8518",
   "metadata": {},
   "outputs": [],
   "source": []
  }
 ],
 "metadata": {
  "kernelspec": {
   "display_name": "Python 3 (ipykernel)",
   "language": "python",
   "name": "python3"
  },
  "language_info": {
   "codemirror_mode": {
    "name": "ipython",
    "version": 3
   },
   "file_extension": ".py",
   "mimetype": "text/x-python",
   "name": "python",
   "nbconvert_exporter": "python",
   "pygments_lexer": "ipython3",
   "version": "3.10.10"
  }
 },
 "nbformat": 4,
 "nbformat_minor": 5
}
