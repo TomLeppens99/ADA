{
 "cells": [
  {
   "cell_type": "code",
   "execution_count": 23,
   "id": "3caa6e73",
   "metadata": {},
   "outputs": [],
   "source": [
    "from pyspark.ml.feature import Tokenizer, StopWordsRemover, HashingTF\n",
    "from pyspark.ml.classification import LogisticRegression\n",
    "from pyspark.ml.evaluation import BinaryClassificationEvaluator\n",
    "from pyspark.sql.functions import col,udf\n",
    "from pyspark.ml import Pipeline\n",
    "from sparknlp.pretrained import PretrainedPipeline\n",
    "from pyspark.sql import functions as F\n",
    "from langdetect import detect\n",
    "from pyspark.sql.types import StringType\n",
    "from pyspark.ml.classification import RandomForestClassifier\n",
    "from pyspark.ml.evaluation import MulticlassClassificationEvaluator\n",
    "from pyspark.mllib.evaluation import MulticlassMetrics\n"
   ]
  },
  {
   "cell_type": "code",
   "execution_count": 24,
   "id": "0a8805fc",
   "metadata": {
    "scrolled": true
   },
   "outputs": [
    {
     "name": "stdout",
     "output_type": "stream",
     "text": [
      "1436\n",
      "1207\n"
     ]
    }
   ],
   "source": [
    "reviews = spark.read.json(\"Review_Data/*/**\")\n",
    "print(reviews.count())\n",
    "print(reviews[reviews[\"label\"]==1].count())\n",
    "reviews_negative = reviews.filter(F.col('label')==0)\n"
   ]
  },
  {
   "cell_type": "code",
   "execution_count": 25,
   "id": "a8807694",
   "metadata": {},
   "outputs": [
    {
     "name": "stdout",
     "output_type": "stream",
     "text": [
      "+-------+-----+---------+--------------------+\n",
      "| app_id|label|review_id|         review_text|\n",
      "+-------+-----+---------+--------------------+\n",
      "| 847780|    1|106594456| Amusing short romp.|\n",
      "| 847780|    1|119065268|I played this ove...|\n",
      "| 847780|    1|120293405|Curiously enough ...|\n",
      "| 847780|    1|120367991|Very fun, short R...|\n",
      "| 861410|    1|122937487|                yea.|\n",
      "| 861410|    1|126995532|Improving in many...|\n",
      "|2179720|    0|128009196|Disclaimer: I'm n...|\n",
      "| 861410|    0|128026207|I don't know if I...|\n",
      "|2179720|    1|128182864|This game has a l...|\n",
      "| 861410|    0|128203588|2/11/2023 Update:...|\n",
      "|2179720|    1|128210905|Great game try it...|\n",
      "| 861410|    0|128252677|This game is a cu...|\n",
      "|2179720|    0|128763431|Found the airplan...|\n",
      "| 861410|    1|129196909|Don't let the fra...|\n",
      "| 861410|    0|129795263|[b]TL;DR: Don't b...|\n",
      "|2077590|    1|130528878|Addictive little ...|\n",
      "|2077590|    1|130529073|Fun gameplay and ...|\n",
      "|2077590|    1|130571366|This is such a gr...|\n",
      "|2179720|    1|130608824|Fun game, has pot...|\n",
      "|2179720|    0|130654774|Just Purchased th...|\n",
      "+-------+-----+---------+--------------------+\n",
      "only showing top 20 rows\n",
      "\n"
     ]
    }
   ],
   "source": [
    "reviews = reviews.dropDuplicates(['review_id'])\n",
    "reviews.show()\n"
   ]
  },
  {
   "cell_type": "code",
   "execution_count": 26,
   "id": "d2f1954b",
   "metadata": {},
   "outputs": [],
   "source": [
    "\n",
    "def detect_language(text):\n",
    "    try:\n",
    "        return detect(text)\n",
    "    except:\n",
    "        return None"
   ]
  },
  {
   "cell_type": "code",
   "execution_count": 27,
   "id": "49b2f5ba",
   "metadata": {},
   "outputs": [
    {
     "name": "stdout",
     "output_type": "stream",
     "text": [
      "+-------+-----+---------+--------------------+--------+\n",
      "| app_id|label|review_id|         review_text|language|\n",
      "+-------+-----+---------+--------------------+--------+\n",
      "| 847780|    1|106594456| Amusing short romp.|      en|\n",
      "| 847780|    1|119065268|I played this ove...|      en|\n",
      "| 847780|    1|120293405|Curiously enough ...|      en|\n",
      "| 847780|    1|120367991|Very fun, short R...|      en|\n",
      "| 861410|    1|122937487|                yea.|      sw|\n",
      "| 861410|    1|126995532|Improving in many...|      en|\n",
      "|2179720|    0|128009196|Disclaimer: I'm n...|      en|\n",
      "| 861410|    0|128026207|I don't know if I...|      en|\n",
      "|2179720|    1|128182864|This game has a l...|      en|\n",
      "| 861410|    0|128203588|2/11/2023 Update:...|      en|\n",
      "|2179720|    1|128210905|Great game try it...|      en|\n",
      "| 861410|    0|128252677|This game is a cu...|      en|\n",
      "|2179720|    0|128763431|Found the airplan...|      en|\n",
      "| 861410|    1|129196909|Don't let the fra...|      fr|\n",
      "| 861410|    0|129795263|[b]TL;DR: Don't b...|      en|\n",
      "|2077590|    1|130528878|Addictive little ...|      en|\n",
      "|2077590|    1|130529073|Fun gameplay and ...|      en|\n",
      "|2077590|    1|130571366|This is such a gr...|      en|\n",
      "|2179720|    1|130608824|Fun game, has pot...|      en|\n",
      "|2179720|    0|130654774|Just Purchased th...|      en|\n",
      "+-------+-----+---------+--------------------+--------+\n",
      "only showing top 20 rows\n",
      "\n",
      "+--------+-----+\n",
      "|language|count|\n",
      "+--------+-----+\n",
      "|      en|  793|\n",
      "|      de|    9|\n",
      "|    null|    8|\n",
      "|      tr|    5|\n",
      "|      ca|    5|\n",
      "|      no|    5|\n",
      "|      es|    5|\n",
      "|      so|    5|\n",
      "|      cy|    4|\n",
      "|      tl|    3|\n",
      "|      fr|    3|\n",
      "|      ru|    3|\n",
      "|      af|    3|\n",
      "|      id|    3|\n",
      "|      nl|    2|\n",
      "|      da|    2|\n",
      "|      sq|    2|\n",
      "|      vi|    1|\n",
      "|      sl|    1|\n",
      "|      pl|    1|\n",
      "+--------+-----+\n",
      "only showing top 20 rows\n",
      "\n"
     ]
    }
   ],
   "source": [
    "\n",
    "detect_language_udf = udf(detect_language, StringType())\n",
    "\n",
    "df = reviews.withColumn('language', detect_language_udf(reviews['review_text']))\n",
    "df.show()\n",
    "language_freq = df.groupBy('language').count().orderBy(col('count').desc())\n",
    "language_freq.show()"
   ]
  },
  {
   "cell_type": "code",
   "execution_count": 28,
   "id": "f1360b9b",
   "metadata": {
    "scrolled": false
   },
   "outputs": [],
   "source": [
    "reviews = df.filter(df['language'] == 'en')"
   ]
  },
  {
   "cell_type": "code",
   "execution_count": 29,
   "id": "923cbbde",
   "metadata": {
    "scrolled": false
   },
   "outputs": [
    {
     "name": "stdout",
     "output_type": "stream",
     "text": [
      "794\n",
      "645\n",
      "144\n",
      "+-------+-----+---------+--------------------+--------+\n",
      "| app_id|label|review_id|         review_text|language|\n",
      "+-------+-----+---------+--------------------+--------+\n",
      "| 847780|    1|106594456| Amusing short romp.|      en|\n",
      "| 847780|    1|119065268|I played this ove...|      en|\n",
      "| 847780|    1|120293405|Curiously enough ...|      en|\n",
      "| 847780|    1|120367991|Very fun, short R...|      en|\n",
      "| 861410|    1|126995532|Improving in many...|      en|\n",
      "|2179720|    0|128009196|Disclaimer: I'm n...|      en|\n",
      "| 861410|    0|128026207|I don't know if I...|      en|\n",
      "|2179720|    1|128182864|This game has a l...|      en|\n",
      "| 861410|    0|128203588|2/11/2023 Update:...|      en|\n",
      "|2179720|    1|128210905|Great game try it...|      en|\n",
      "| 861410|    0|128252677|This game is a cu...|      en|\n",
      "|2179720|    0|128763431|Found the airplan...|      en|\n",
      "| 861410|    0|129795263|[b]TL;DR: Don't b...|      en|\n",
      "|2077590|    1|130528878|Addictive little ...|      en|\n",
      "|2077590|    1|130529073|Fun gameplay and ...|      en|\n",
      "|2077590|    1|130571366|This is such a gr...|      en|\n",
      "|2179720|    1|130608824|Fun game, has pot...|      en|\n",
      "|2179720|    0|130654774|Just Purchased th...|      en|\n",
      "|2077590|    1|130688887|I recently purcha...|      en|\n",
      "|2077590|    1|130711953|I've followed thi...|      en|\n",
      "+-------+-----+---------+--------------------+--------+\n",
      "only showing top 20 rows\n",
      "\n"
     ]
    }
   ],
   "source": [
    "print(reviews.count())\n",
    "print(reviews[reviews[\"label\"]==1].count())\n",
    "print(reviews[reviews[\"label\"]==0].count())\n",
    "\n",
    "reviews.show()"
   ]
  },
  {
   "cell_type": "code",
   "execution_count": 30,
   "id": "86905145",
   "metadata": {},
   "outputs": [
    {
     "name": "stdout",
     "output_type": "stream",
     "text": [
      "667\n",
      "544\n",
      "123\n"
     ]
    }
   ],
   "source": [
    "train_data, test_data = reviews.randomSplit([0.8, 0.2], seed=42)\n",
    "print(train_data.count())\n",
    "train_data_positive = train_data.filter(F.col('label')==1)\n",
    "train_data_negative = train_data.filter(F.col('label')==0)\n",
    "print(train_data_positive.count())\n",
    "print(train_data_negative.count())"
   ]
  },
  {
   "cell_type": "code",
   "execution_count": 31,
   "id": "89044372",
   "metadata": {},
   "outputs": [
    {
     "name": "stdout",
     "output_type": "stream",
     "text": [
      "ratio befween positive and negative review is 4\n"
     ]
    }
   ],
   "source": [
    "ratio = int(train_data_positive.count()/ train_data_negative.count())\n",
    "\n",
    "oversampled_train_data = train_data_negative.withColumn(\"dummy\",F.explode(F.array([F.lit(x) for x in range(ratio)]))).drop('dummy')\n",
    "\n",
    "print(\"ratio befween positive and negative review is \" + str(ratio))"
   ]
  },
  {
   "cell_type": "code",
   "execution_count": 32,
   "id": "969079c6",
   "metadata": {},
   "outputs": [],
   "source": [
    "train_data = train_data_positive.unionAll(oversampled_train_data)"
   ]
  },
  {
   "cell_type": "code",
   "execution_count": 33,
   "id": "f4f58372",
   "metadata": {},
   "outputs": [
    {
     "name": "stdout",
     "output_type": "stream",
     "text": [
      "541\n",
      "548\n",
      "480\n"
     ]
    }
   ],
   "source": [
    "print(train_data.filter(F.col('label')==1).count())\n",
    "print(train_data[train_data[\"label\"]==1].count())\n",
    "print(train_data[train_data[\"label\"]==0].count())\n"
   ]
  },
  {
   "cell_type": "code",
   "execution_count": 34,
   "id": "6d82dc2a",
   "metadata": {},
   "outputs": [],
   "source": [
    "# Preprocess data\n",
    "tokenizer = Tokenizer(inputCol=\"review_text\", outputCol=\"words\")\n",
    "stopwords = StopWordsRemover(inputCol=tokenizer.getOutputCol(), outputCol=\"filtered_words\")\n",
    "hashingTF = HashingTF(numFeatures=1000, inputCol=stopwords.getOutputCol(), outputCol=\"features\")\n",
    "pipeline = Pipeline(stages=[tokenizer, stopwords, hashingTF])\n",
    "preprocessed_data = pipeline.fit(train_data).transform(train_data)\n"
   ]
  },
  {
   "cell_type": "code",
   "execution_count": 35,
   "id": "d291eeba",
   "metadata": {},
   "outputs": [],
   "source": [
    "lr = LogisticRegression(featuresCol=\"features\", labelCol=\"label\", maxIter=300)\n",
    "model = lr.fit(preprocessed_data)"
   ]
  },
  {
   "cell_type": "code",
   "execution_count": 36,
   "id": "7da69a8e",
   "metadata": {},
   "outputs": [
    {
     "name": "stdout",
     "output_type": "stream",
     "text": [
      "125\n",
      "104\n",
      "19\n"
     ]
    }
   ],
   "source": [
    "print(test_data.count())\n",
    "print(test_data.filter(F.col('label')==1).count())\n",
    "print(test_data.filter(F.col('label')==0).count())\n"
   ]
  },
  {
   "cell_type": "code",
   "execution_count": 37,
   "id": "20f43703",
   "metadata": {},
   "outputs": [],
   "source": [
    "test_data_processed = pipeline.fit(test_data).transform(test_data)\n",
    "predictions = model.transform(test_data_processed)\n"
   ]
  },
  {
   "cell_type": "markdown",
   "id": "d1e8afd0",
   "metadata": {},
   "source": [
    "Evaluate result with AUC"
   ]
  },
  {
   "cell_type": "code",
   "execution_count": 38,
   "id": "fec4bc23",
   "metadata": {},
   "outputs": [
    {
     "name": "stdout",
     "output_type": "stream",
     "text": [
      "AUC:  0.8636792452830188\n"
     ]
    }
   ],
   "source": [
    "evaluator = BinaryClassificationEvaluator(labelCol=\"label\", rawPredictionCol=\"prediction\", metricName=\"areaUnderROC\")\n",
    "auc = evaluator.evaluate(predictions)\n",
    "print(\"AUC: \", auc)"
   ]
  },
  {
   "cell_type": "code",
   "execution_count": 39,
   "id": "3e9d9280",
   "metadata": {},
   "outputs": [],
   "source": [
    "#save model\n",
    "model.write().overwrite().save(\"Model1\")"
   ]
  },
  {
   "cell_type": "markdown",
   "id": "cd91fdbf",
   "metadata": {},
   "source": [
    "**confusion matrix**"
   ]
  },
  {
   "cell_type": "code",
   "execution_count": 40,
   "id": "2962b9b3",
   "metadata": {},
   "outputs": [
    {
     "name": "stdout",
     "output_type": "stream",
     "text": [
      "Test set accuracy = 0.8818897637795275\n",
      "Confusion Matrix:\n",
      " [[ 18.   3.]\n",
      " [  5. 100.]]\n"
     ]
    }
   ],
   "source": [
    "\n",
    "# Convert prediction and label columns to float, necessary for the confusion matrix\n",
    "predictions = predictions.withColumn(\"label\", predictions[\"label\"].cast(\"double\"))\n",
    "predictions = predictions.withColumn(\"prediction\", predictions[\"prediction\"].cast(\"double\"))\n",
    "\n",
    "# Select prediction and label columns\n",
    "predictionAndLabels = predictions.select(\"prediction\", \"label\")\n",
    "\n",
    "# Compute raw scores on the test set\n",
    "evaluator = MulticlassClassificationEvaluator(metricName=\"accuracy\")\n",
    "accuracy = evaluator.evaluate(predictionAndLabels)\n",
    "print(\"Test set accuracy = \" + str(accuracy))\n",
    "\n",
    "# Create a confusion matrix\n",
    "metrics = MulticlassMetrics(predictionAndLabels.rdd)\n",
    "confusion_matrix = metrics.confusionMatrix().toArray()\n",
    "print(\"Confusion Matrix:\\n\", confusion_matrix)"
   ]
  },
  {
   "cell_type": "code",
   "execution_count": null,
   "id": "9382ac7e",
   "metadata": {},
   "outputs": [],
   "source": []
  }
 ],
 "metadata": {
  "kernelspec": {
   "display_name": "Python 3 (ipykernel)",
   "language": "python",
   "name": "python3"
  },
  "language_info": {
   "codemirror_mode": {
    "name": "ipython",
    "version": 3
   },
   "file_extension": ".py",
   "mimetype": "text/x-python",
   "name": "python",
   "nbconvert_exporter": "python",
   "pygments_lexer": "ipython3",
   "version": "3.10.10"
  }
 },
 "nbformat": 4,
 "nbformat_minor": 5
}
